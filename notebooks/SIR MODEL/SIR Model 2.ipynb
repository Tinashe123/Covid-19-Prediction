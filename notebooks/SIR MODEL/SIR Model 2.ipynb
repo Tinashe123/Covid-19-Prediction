{
 "cells": [
  {
   "cell_type": "markdown",
   "id": "a8ffa563",
   "metadata": {},
   "source": [
    "#### DSFSI Covid19 - Covid Prediction using SIR Model\n",
    "By: Tinashe Chinyati and Graeme Lubbe\n",
    "\n",
    "#### Datasets\n",
    "- covid19za_provincial_cumulative_timeline_confirmed.csv\n",
    "- covid19za_provincial_cumulative_timeline_recoveries.csv\n",
    "- covid19za_provincial_cumulative_timeline_deaths.csv"
   ]
  },
  {
   "cell_type": "markdown",
   "id": "83ca548d",
   "metadata": {},
   "source": [
    "## 1.  Import necessary libraries"
   ]
  },
  {
   "cell_type": "code",
   "execution_count": 54,
   "id": "a4ef1c0a",
   "metadata": {},
   "outputs": [],
   "source": [
    "import numpy as np\n",
    "from scipy.integrate import odeint\n",
    "import matplotlib.pyplot as plt\n",
    "import pandas as pd"
   ]
  },
  {
   "cell_type": "markdown",
   "id": "635c0f7c",
   "metadata": {},
   "source": [
    "### 2. Assumptions"
   ]
  },
  {
   "cell_type": "code",
   "execution_count": 52,
   "id": "5b544d5a",
   "metadata": {},
   "outputs": [],
   "source": [
    "# Between I and R, the transition rate is assumed to be proportional to the number of infectious individuals which is gamma *I\n",
    "# From infected you dont travel back to susceptible and from recovered you do not travel back to infected.\n",
    "# Assume a closed population meaning no other people are coming in from other populations. Population is not going to grow\n",
    "# Recovery population never decrease\n",
    "# no one has been vaccinated\n",
    "# no one has had the disease before\n",
    "# there’s no way to control the spread of the disease"
   ]
  },
  {
   "cell_type": "markdown",
   "id": "0fa89c5b",
   "metadata": {},
   "source": [
    "### 3. Import data "
   ]
  },
  {
   "cell_type": "code",
   "execution_count": 55,
   "id": "3392ad82",
   "metadata": {},
   "outputs": [],
   "source": [
    "confirmed_cases = pd.read_csv('https://raw.githubusercontent.com/dsfsi/covid19za/master/data/covid19za_provincial_cumulative_timeline_confirmed.csv')\n",
    "recoveries = pd.read_csv('https://raw.githubusercontent.com/dsfsi/covid19za/master/data/covid19za_provincial_cumulative_timeline_recoveries.csv')\n",
    "deaths = pd.read_csv('https://raw.githubusercontent.com/dsfsi/covid19za/master/data/covid19za_provincial_cumulative_timeline_deaths.csv')"
   ]
  },
  {
   "cell_type": "code",
   "execution_count": 58,
   "id": "2daa0ca6",
   "metadata": {},
   "outputs": [],
   "source": [
    "confirmed_cases['Daily Confirmed Cases'] = confirmed_cases['total'] - confirmed_cases['total'].shift(1)"
   ]
  },
  {
   "cell_type": "code",
   "execution_count": 62,
   "id": "8cf1a559",
   "metadata": {},
   "outputs": [],
   "source": [
    "current_cases = confirmed_cases['Daily Confirmed Cases'].iloc[-1]"
   ]
  },
  {
   "cell_type": "code",
   "execution_count": 65,
   "id": "ff831f3b",
   "metadata": {},
   "outputs": [],
   "source": [
    "recoveries['Daily recoveries'] = recoveries['total'] - recoveries['total'].shift(1)"
   ]
  },
  {
   "cell_type": "code",
   "execution_count": 67,
   "id": "e89c8e78",
   "metadata": {},
   "outputs": [],
   "source": [
    "current_recoveries = recoveries['Daily recoveries'].iloc[-1]"
   ]
  },
  {
   "cell_type": "markdown",
   "id": "63e07f84",
   "metadata": {},
   "source": [
    "### 4. SIR Model\n",
    "\n",
    "A basic compartmental model of how disease spreads\n",
    "\n",
    "- Susceptible population: people who could catch the disease\n",
    "- Infected population: people who have the disease and can spread it\n",
    "- Recovered/Removed people: people who had the disease and cannot get it again"
   ]
  },
  {
   "cell_type": "markdown",
   "id": "7257fc2e",
   "metadata": {},
   "source": [
    "### 5. Set the parameters of the SIR Model"
   ]
  },
  {
   "cell_type": "code",
   "execution_count": 79,
   "id": "481129cd",
   "metadata": {},
   "outputs": [
    {
     "name": "stdout",
     "output_type": "stream",
     "text": [
      "total_population : 60684949\n",
      "days : 200\n",
      "initial_infected : 9253.0\n",
      "initial_recovered : 5829.0\n",
      "initial_susceptible : 60669867.0\n",
      "average_num_contacts_per_person : 5\n",
      "prob_of_disease_transimission : 0.04\n",
      "beta : 0.2\n",
      "gamma : 0.1\n",
      "R0 : 2.0\n",
      "time_grid : 200\n"
     ]
    }
   ],
   "source": [
    "#Assumed Population: Population for SA was taken from https://www.worldometers.info/world-population/south-africa-population/ \n",
    "# as of Saturday, May 7, 2022, based on Worldometer elaboration of the latest United Nations data.\n",
    "total_population = 60684949\n",
    "\n",
    "#Number of days to consider\n",
    "days = 200\n",
    "\n",
    "#Initial Infected and recovered individuals: Take this from the dsfsi data, these are just constant for developing the model\n",
    "initial_infected = current_cases   # 100\n",
    "initial_recovered = current_recoveries  # 0\n",
    "\n",
    "#parameters to build beta (Transmission rate)\n",
    "average_num_contacts_per_person = 5  #per day. This is how often do infected and susceptible people come in contact?\n",
    "prob_of_disease_transimission = 0.04 # during one of those contacts, what is the chance of spreading the disease?\n",
    "\n",
    "#parameter to build gamma (the avg of days that it takes to get better or pass away) In RSA its set to 10 days\n",
    "recovery_period_in_days = 10\n",
    "\n",
    "def get_initial_susceptible(total_population, initial_infected, initial_recovered):\n",
    "    return total_population - (initial_infected + initial_recovered)\n",
    "\n",
    "initial_susceptible = get_initial_susceptible(total_population, initial_infected, initial_recovered)\n",
    "\n",
    "def get_beta(average_num_contacts_per_person, prob_of_disease_transimission):\n",
    "    return average_num_contacts_per_person * prob_of_disease_transimission\n",
    "\n",
    "def get_mean_recovery_rate(recovery_period_in_days):\n",
    "    return 1.0/recovery_period_in_days\n",
    "\n",
    "#beta is the rate at which people flow from susceptible to infected daily. Infected person infects {beta} people daily\n",
    "beta = get_beta(average_num_contacts_per_person, prob_of_disease_transimission)\n",
    "\n",
    "#gamma, avg transmission rate from infectious to recovered\n",
    "gamma =get_mean_recovery_rate(recovery_period_in_days)\n",
    "\n",
    "#RO is expected number of secondary cases produced by a single (typical) infection in a completely susceptible population\n",
    "R0 = beta/gamma\n",
    "\n",
    "# All of these compartments (susceptible, infected and recovered) change with time and we need to perform \n",
    "# calculations for different points in time. \n",
    "#Each derivative is a function of time, so we use numpy array for calculations and plotting\n",
    "time_grid = np.linspace(0, days, days)\n",
    "\n",
    "#Set initial conditions for the Differential Equation Solver\n",
    "initial_conditions = (initial_susceptible, initial_infected, initial_recovered)\n",
    "\n",
    "params_dict = {\n",
    "    'total_population' : total_population,\n",
    "    'days': days,\n",
    "    'initial_infected': initial_infected,\n",
    "    'initial_recovered': initial_recovered,\n",
    "    'initial_susceptible': initial_susceptible,\n",
    "    'average_num_contacts_per_person':average_num_contacts_per_person,\n",
    "    'prob_of_disease_transimission':prob_of_disease_transimission,\n",
    "    'beta':beta,\n",
    "    'gamma':gamma,\n",
    "    'R0':R0,\n",
    "    'time_grid':len(time_grid)\n",
    "}\n",
    "\n",
    "for k,v in params_dict.items():\n",
    "    print(f'{k} : {v}')"
   ]
  },
  {
   "cell_type": "markdown",
   "id": "f60a7d34",
   "metadata": {},
   "source": [
    "### 6. Derivatives"
   ]
  },
  {
   "cell_type": "code",
   "execution_count": 80,
   "id": "b428e9c9",
   "metadata": {},
   "outputs": [],
   "source": [
    "def derivative_susceptible_wrt_time(beta,susceptible, infectious, total_population):\n",
    "    \"\"\"\n",
    "    Assumptions: Susceptible will always decrease and assumes immunity\n",
    "    \"\"\"\n",
    "    return -beta * susceptible * (infectious/total_population)\n",
    "\n",
    "def derivative_infectious_wrt_time(beta, susceptible, infectious, total_population, gamma):\n",
    "    \"\"\"Infectious draws from susceptible and is depleted by recovered\"\"\"\n",
    "    return beta * susceptible * (infectious/total_population) - (gamma*infectious)\n",
    "\n",
    "def derivative_recovery_wrt_time(gamma, infectious):\n",
    "    \"\"\"Assume recovered never decreases\"\"\"\n",
    "    return gamma * infectious\n",
    "\n",
    "def derivatives_helper(initial_conditions, time_grid, total_population, beta, gamma):\n",
    "    \"\"\"This facilitates odeint\"\"\"\n",
    "    susceptible, infectious, recovered = initial_conditions\n",
    "    dSdt = derivative_susceptible_wrt_time(beta,susceptible, infectious, total_population)\n",
    "    dIdt = derivative_infectious_wrt_time(beta, susceptible, infectious, total_population, gamma)\n",
    "    dRdt = derivative_recovery_wrt_time(gamma, infectious)\n",
    "    \n",
    "    return dSdt, dIdt, dRdt "
   ]
  },
  {
   "cell_type": "markdown",
   "id": "a081f520",
   "metadata": {},
   "source": [
    "###  7. Integrate SIR equations over the time grid"
   ]
  },
  {
   "cell_type": "code",
   "execution_count": 81,
   "id": "6ac1d5ca",
   "metadata": {},
   "outputs": [],
   "source": [
    "consolidated_functions = odeint(derivatives_helper, initial_conditions, time_grid, args=(total_population, beta, gamma))"
   ]
  },
  {
   "cell_type": "code",
   "execution_count": 82,
   "id": "9eaa577f",
   "metadata": {},
   "outputs": [],
   "source": [
    "# Unpack the consolidated_functions array\n",
    "susceptible, infectious, recovered = consolidated_functions.T"
   ]
  },
  {
   "cell_type": "markdown",
   "id": "b6afdb9b",
   "metadata": {},
   "source": [
    "### 8. Plot SIR Model"
   ]
  },
  {
   "cell_type": "code",
   "execution_count": 83,
   "id": "71d1aff1",
   "metadata": {},
   "outputs": [],
   "source": [
    "def plot_sir_model(time_grid, susceptible, infectious, recovered):\n",
    "    figure = plt.figure(facecolor='w', figsize=(15,10))\n",
    "    ax = figure.add_subplot(111, facecolor='#dddddd', axisbelow=True)\n",
    "    ax.plot(time_grid, susceptible, 'b', alpha=0.5, lw=2, label='Susceptible')\n",
    "    ax.plot(time_grid, infectious, 'r', alpha=0.5, lw=2, label='Infectious')\n",
    "    ax.plot(time_grid, recovered, 'g', alpha=0.5, lw=2, label='Recovered')\n",
    "    ax.set_xlabel('Days')\n",
    "    ax.set_ylabel('Number of People')\n",
    "    \n",
    "    legend = ax.legend()\n",
    "    legend.get_frame().set_alpha(0.5)\n",
    "    plt.show()"
   ]
  },
  {
   "cell_type": "code",
   "execution_count": 84,
   "id": "37b0b1f5",
   "metadata": {},
   "outputs": [
    {
     "data": {
      "image/png": "[encoded data removed]",
      "text/plain": [
       "<Figure size 1080x720 with 1 Axes>"
      ]
     },
     "metadata": {},
     "output_type": "display_data"
    }
   ],
   "source": [
    "plot_sir_model(time_grid, susceptible, infectious, recovered)"
   ]
  },
  {
   "cell_type": "code",
   "execution_count": null,
   "id": "23355ccf",
   "metadata": {},
   "outputs": [],
   "source": []
  }
 ],
 "metadata": {
  "kernelspec": {
   "display_name": "Python 3",
   "language": "python",
   "name": "python3"
  },
  "language_info": {
   "codemirror_mode": {
    "name": "ipython",
    "version": 3
   },
   "file_extension": ".py",
   "mimetype": "text/x-python",
   "name": "python",
   "nbconvert_exporter": "python",
   "pygments_lexer": "ipython3",
   "version": "3.8.8"
  }
 },
 "nbformat": 4,
 "nbformat_minor": 5
}
